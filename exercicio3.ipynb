{
 "cells": [
  {
   "cell_type": "code",
   "execution_count": 35,
   "metadata": {},
   "outputs": [],
   "source": [
    "import pandas as pd\n",
    "import re\n",
    "from unidecode import unidecode\n",
    "from googletrans import Translator\n",
    "import math\n",
    "from fuzzywuzzy import fuzz\n",
    "from fuzzywuzzy import process\n",
    "import Levenshtein as lev"
   ]
  },
  {
   "cell_type": "code",
   "execution_count": 36,
   "metadata": {},
   "outputs": [
    {
     "data": {
      "text/html": [
       "<div>\n",
       "<style scoped>\n",
       "    .dataframe tbody tr th:only-of-type {\n",
       "        vertical-align: middle;\n",
       "    }\n",
       "\n",
       "    .dataframe tbody tr th {\n",
       "        vertical-align: top;\n",
       "    }\n",
       "\n",
       "    .dataframe thead th {\n",
       "        text-align: right;\n",
       "    }\n",
       "</style>\n",
       "<table border=\"1\" class=\"dataframe\">\n",
       "  <thead>\n",
       "    <tr style=\"text-align: right;\">\n",
       "      <th></th>\n",
       "      <th>ITE_ITEM_TITLE</th>\n",
       "    </tr>\n",
       "  </thead>\n",
       "  <tbody>\n",
       "    <tr>\n",
       "      <th>0</th>\n",
       "      <td>Tênis Ascension Posh Masculino - Preto E Verme...</td>\n",
       "    </tr>\n",
       "    <tr>\n",
       "      <th>1</th>\n",
       "      <td>Tenis Para Caminhada Super Levinho Spider Corr...</td>\n",
       "    </tr>\n",
       "    <tr>\n",
       "      <th>2</th>\n",
       "      <td>Tênis Feminino Le Parc Hocks Black/ice Origina...</td>\n",
       "    </tr>\n",
       "    <tr>\n",
       "      <th>3</th>\n",
       "      <td>Tênis Olympikus Esportivo Academia Nova Tendên...</td>\n",
       "    </tr>\n",
       "    <tr>\n",
       "      <th>4</th>\n",
       "      <td>Inteligente Led Bicicleta Tauda Luz Usb Bicicl...</td>\n",
       "    </tr>\n",
       "    <tr>\n",
       "      <th>...</th>\n",
       "      <td>...</td>\n",
       "    </tr>\n",
       "    <tr>\n",
       "      <th>29995</th>\n",
       "      <td>Tênis Vans Old Skool I Love My Vans - Usado - ...</td>\n",
       "    </tr>\n",
       "    <tr>\n",
       "      <th>29996</th>\n",
       "      <td>Tênis Feminino Preto Moleca 5296155</td>\n",
       "    </tr>\n",
       "    <tr>\n",
       "      <th>29997</th>\n",
       "      <td>Tenis Botinha Com Pelo Via Marte Original Lanç...</td>\n",
       "    </tr>\n",
       "    <tr>\n",
       "      <th>29998</th>\n",
       "      <td>Tênis Slip On Feminino Masculino Original Sapa...</td>\n",
       "    </tr>\n",
       "    <tr>\n",
       "      <th>29999</th>\n",
       "      <td>Bicicleta Nathor Rosa Infantil Sem Pedal Balan...</td>\n",
       "    </tr>\n",
       "  </tbody>\n",
       "</table>\n",
       "<p>30000 rows × 1 columns</p>\n",
       "</div>"
      ],
      "text/plain": [
       "                                          ITE_ITEM_TITLE\n",
       "0      Tênis Ascension Posh Masculino - Preto E Verme...\n",
       "1      Tenis Para Caminhada Super Levinho Spider Corr...\n",
       "2      Tênis Feminino Le Parc Hocks Black/ice Origina...\n",
       "3      Tênis Olympikus Esportivo Academia Nova Tendên...\n",
       "4      Inteligente Led Bicicleta Tauda Luz Usb Bicicl...\n",
       "...                                                  ...\n",
       "29995  Tênis Vans Old Skool I Love My Vans - Usado - ...\n",
       "29996                Tênis Feminino Preto Moleca 5296155\n",
       "29997  Tenis Botinha Com Pelo Via Marte Original Lanç...\n",
       "29998  Tênis Slip On Feminino Masculino Original Sapa...\n",
       "29999  Bicicleta Nathor Rosa Infantil Sem Pedal Balan...\n",
       "\n",
       "[30000 rows x 1 columns]"
      ]
     },
     "execution_count": 36,
     "metadata": {},
     "output_type": "execute_result"
    }
   ],
   "source": [
    "#Lendo os dados\n",
    "itens = pd.read_csv(\"items_titles.csv\")\n",
    "itens"
   ]
  },
  {
   "cell_type": "code",
   "execution_count": 37,
   "metadata": {},
   "outputs": [
    {
     "data": {
      "text/html": [
       "<div>\n",
       "<style scoped>\n",
       "    .dataframe tbody tr th:only-of-type {\n",
       "        vertical-align: middle;\n",
       "    }\n",
       "\n",
       "    .dataframe tbody tr th {\n",
       "        vertical-align: top;\n",
       "    }\n",
       "\n",
       "    .dataframe thead th {\n",
       "        text-align: right;\n",
       "    }\n",
       "</style>\n",
       "<table border=\"1\" class=\"dataframe\">\n",
       "  <thead>\n",
       "    <tr style=\"text-align: right;\">\n",
       "      <th></th>\n",
       "      <th>ITE_ITEM_TITLE</th>\n",
       "    </tr>\n",
       "  </thead>\n",
       "  <tbody>\n",
       "    <tr>\n",
       "      <th>0</th>\n",
       "      <td>TENIS ASCENSION POSH MASCULINO  PRETO E VERMELHO</td>\n",
       "    </tr>\n",
       "    <tr>\n",
       "      <th>1</th>\n",
       "      <td>TENIS PARA CAMINHADA SUPER LEVINHO SPIDER CORRIDA</td>\n",
       "    </tr>\n",
       "    <tr>\n",
       "      <th>2</th>\n",
       "      <td>TENIS FEMININO LE PARC HOCKS BLACKICE ORIGINAL...</td>\n",
       "    </tr>\n",
       "    <tr>\n",
       "      <th>3</th>\n",
       "      <td>TENIS OLYMPIKUS ESPORTIVO ACADEMIA NOVA TENDEN...</td>\n",
       "    </tr>\n",
       "    <tr>\n",
       "      <th>4</th>\n",
       "      <td>INTELIGENTE LED BICICLETA TAUDA LUZ USB BICICL...</td>\n",
       "    </tr>\n",
       "    <tr>\n",
       "      <th>...</th>\n",
       "      <td>...</td>\n",
       "    </tr>\n",
       "    <tr>\n",
       "      <th>29995</th>\n",
       "      <td>TENIS VANS OLD SKOOL I LOVE MY VANS  USADO  FE...</td>\n",
       "    </tr>\n",
       "    <tr>\n",
       "      <th>29996</th>\n",
       "      <td>TENIS FEMININO PRETO MOLECA 5296155</td>\n",
       "    </tr>\n",
       "    <tr>\n",
       "      <th>29997</th>\n",
       "      <td>TENIS BOTINHA COM PELO VIA MARTE ORIGINAL LANC...</td>\n",
       "    </tr>\n",
       "    <tr>\n",
       "      <th>29998</th>\n",
       "      <td>TENIS SLIP ON FEMININO MASCULINO ORIGINAL SAPA...</td>\n",
       "    </tr>\n",
       "    <tr>\n",
       "      <th>29999</th>\n",
       "      <td>BICICLETA NATHOR ROSA INFANTIL SEM PEDAL BALAN...</td>\n",
       "    </tr>\n",
       "  </tbody>\n",
       "</table>\n",
       "<p>30000 rows × 1 columns</p>\n",
       "</div>"
      ],
      "text/plain": [
       "                                          ITE_ITEM_TITLE\n",
       "0       TENIS ASCENSION POSH MASCULINO  PRETO E VERMELHO\n",
       "1      TENIS PARA CAMINHADA SUPER LEVINHO SPIDER CORRIDA\n",
       "2      TENIS FEMININO LE PARC HOCKS BLACKICE ORIGINAL...\n",
       "3      TENIS OLYMPIKUS ESPORTIVO ACADEMIA NOVA TENDEN...\n",
       "4      INTELIGENTE LED BICICLETA TAUDA LUZ USB BICICL...\n",
       "...                                                  ...\n",
       "29995  TENIS VANS OLD SKOOL I LOVE MY VANS  USADO  FE...\n",
       "29996                TENIS FEMININO PRETO MOLECA 5296155\n",
       "29997  TENIS BOTINHA COM PELO VIA MARTE ORIGINAL LANC...\n",
       "29998  TENIS SLIP ON FEMININO MASCULINO ORIGINAL SAPA...\n",
       "29999  BICICLETA NATHOR ROSA INFANTIL SEM PEDAL BALAN...\n",
       "\n",
       "[30000 rows x 1 columns]"
      ]
     },
     "execution_count": 37,
     "metadata": {},
     "output_type": "execute_result"
    }
   ],
   "source": [
    "#Limpando os textos\n",
    "itens[\"ITE_ITEM_TITLE\"] = itens[\"ITE_ITEM_TITLE\"].str.upper()\n",
    "itens[\"ITE_ITEM_TITLE\"] = itens[\"ITE_ITEM_TITLE\"].str.replace(r'[^\\w\\d\\s]', '', regex=True)\n",
    "itens[\"ITE_ITEM_TITLE\"] = itens[\"ITE_ITEM_TITLE\"].str.replace(r\"\\s+$\", \"\", regex=True)\n",
    "itens[\"ITE_ITEM_TITLE\"] = itens[\"ITE_ITEM_TITLE\"].apply(unidecode)\n",
    "itens"
   ]
  },
  {
   "cell_type": "code",
   "execution_count": 38,
   "metadata": {},
   "outputs": [
    {
     "data": {
      "text/plain": [
       "True"
      ]
     },
     "execution_count": 38,
     "metadata": {},
     "output_type": "execute_result"
    }
   ],
   "source": [
    "#Verificando a existencia de duplicados\n",
    "any(itens.duplicated())"
   ]
  },
  {
   "cell_type": "code",
   "execution_count": 39,
   "metadata": {},
   "outputs": [
    {
     "data": {
      "text/html": [
       "<div>\n",
       "<style scoped>\n",
       "    .dataframe tbody tr th:only-of-type {\n",
       "        vertical-align: middle;\n",
       "    }\n",
       "\n",
       "    .dataframe tbody tr th {\n",
       "        vertical-align: top;\n",
       "    }\n",
       "\n",
       "    .dataframe thead th {\n",
       "        text-align: right;\n",
       "    }\n",
       "</style>\n",
       "<table border=\"1\" class=\"dataframe\">\n",
       "  <thead>\n",
       "    <tr style=\"text-align: right;\">\n",
       "      <th></th>\n",
       "      <th>ITE_ITEM_TITLE</th>\n",
       "    </tr>\n",
       "  </thead>\n",
       "  <tbody>\n",
       "    <tr>\n",
       "      <th>0</th>\n",
       "      <td>TENIS ASCENSION POSH MASCULINO  PRETO E VERMELHO</td>\n",
       "    </tr>\n",
       "    <tr>\n",
       "      <th>1</th>\n",
       "      <td>TENIS PARA CAMINHADA SUPER LEVINHO SPIDER CORRIDA</td>\n",
       "    </tr>\n",
       "    <tr>\n",
       "      <th>2</th>\n",
       "      <td>TENIS FEMININO LE PARC HOCKS BLACKICE ORIGINAL...</td>\n",
       "    </tr>\n",
       "    <tr>\n",
       "      <th>3</th>\n",
       "      <td>TENIS OLYMPIKUS ESPORTIVO ACADEMIA NOVA TENDEN...</td>\n",
       "    </tr>\n",
       "    <tr>\n",
       "      <th>4</th>\n",
       "      <td>INTELIGENTE LED BICICLETA TAUDA LUZ USB BICICL...</td>\n",
       "    </tr>\n",
       "    <tr>\n",
       "      <th>...</th>\n",
       "      <td>...</td>\n",
       "    </tr>\n",
       "    <tr>\n",
       "      <th>29939</th>\n",
       "      <td>TENIS VANS OLD SKOOL I LOVE MY VANS  USADO  FE...</td>\n",
       "    </tr>\n",
       "    <tr>\n",
       "      <th>29940</th>\n",
       "      <td>TENIS FEMININO PRETO MOLECA 5296155</td>\n",
       "    </tr>\n",
       "    <tr>\n",
       "      <th>29941</th>\n",
       "      <td>TENIS BOTINHA COM PELO VIA MARTE ORIGINAL LANC...</td>\n",
       "    </tr>\n",
       "    <tr>\n",
       "      <th>29942</th>\n",
       "      <td>TENIS SLIP ON FEMININO MASCULINO ORIGINAL SAPA...</td>\n",
       "    </tr>\n",
       "    <tr>\n",
       "      <th>29943</th>\n",
       "      <td>BICICLETA NATHOR ROSA INFANTIL SEM PEDAL BALAN...</td>\n",
       "    </tr>\n",
       "  </tbody>\n",
       "</table>\n",
       "<p>29944 rows × 1 columns</p>\n",
       "</div>"
      ],
      "text/plain": [
       "                                          ITE_ITEM_TITLE\n",
       "0       TENIS ASCENSION POSH MASCULINO  PRETO E VERMELHO\n",
       "1      TENIS PARA CAMINHADA SUPER LEVINHO SPIDER CORRIDA\n",
       "2      TENIS FEMININO LE PARC HOCKS BLACKICE ORIGINAL...\n",
       "3      TENIS OLYMPIKUS ESPORTIVO ACADEMIA NOVA TENDEN...\n",
       "4      INTELIGENTE LED BICICLETA TAUDA LUZ USB BICICL...\n",
       "...                                                  ...\n",
       "29939  TENIS VANS OLD SKOOL I LOVE MY VANS  USADO  FE...\n",
       "29940                TENIS FEMININO PRETO MOLECA 5296155\n",
       "29941  TENIS BOTINHA COM PELO VIA MARTE ORIGINAL LANC...\n",
       "29942  TENIS SLIP ON FEMININO MASCULINO ORIGINAL SAPA...\n",
       "29943  BICICLETA NATHOR ROSA INFANTIL SEM PEDAL BALAN...\n",
       "\n",
       "[29944 rows x 1 columns]"
      ]
     },
     "execution_count": 39,
     "metadata": {},
     "output_type": "execute_result"
    }
   ],
   "source": [
    "#Retirando itens duplicados pois a comparação seria redundandte\n",
    "itens = itens.drop_duplicates().reset_index(drop=True)\n",
    "itens"
   ]
  },
  {
   "cell_type": "code",
   "execution_count": 40,
   "metadata": {},
   "outputs": [
    {
     "data": {
      "text/plain": [
       "False"
      ]
     },
     "execution_count": 40,
     "metadata": {},
     "output_type": "execute_result"
    }
   ],
   "source": [
    "#Verificando a existencia de duplicados\n",
    "any(itens.duplicated())"
   ]
  },
  {
   "cell_type": "code",
   "execution_count": 41,
   "metadata": {},
   "outputs": [],
   "source": [
    "from sklearn.feature_extraction.text import TfidfVectorizer\n",
    "from sklearn.metrics.pairwise import cosine_similarity"
   ]
  },
  {
   "cell_type": "code",
   "execution_count": 42,
   "metadata": {},
   "outputs": [],
   "source": [
    "vectorizer = TfidfVectorizer()"
   ]
  },
  {
   "cell_type": "markdown",
   "metadata": {},
   "source": [
    "<font size=2> <p style='text-align: justify;'> Estou trabalhando com 10k pois minha máquina não aguentou o processamento. Reduzi a quantidade de dados para poder demosntrar a logica de resolução."
   ]
  },
  {
   "cell_type": "code",
   "execution_count": 43,
   "metadata": {},
   "outputs": [],
   "source": [
    "itens_fit = itens['ITE_ITEM_TITLE'][0:10000]"
   ]
  },
  {
   "cell_type": "code",
   "execution_count": 44,
   "metadata": {},
   "outputs": [],
   "source": [
    "tf_idf_matrix = vectorizer.fit_transform(itens_fit)"
   ]
  },
  {
   "cell_type": "code",
   "execution_count": 45,
   "metadata": {},
   "outputs": [
    {
     "data": {
      "text/plain": [
       "(10000, 8806)"
      ]
     },
     "execution_count": 45,
     "metadata": {},
     "output_type": "execute_result"
    }
   ],
   "source": [
    "tf_idf_matrix.shape"
   ]
  },
  {
   "cell_type": "code",
   "execution_count": 46,
   "metadata": {},
   "outputs": [],
   "source": [
    "matriz_score = cosine_similarity(tf_idf_matrix)"
   ]
  },
  {
   "cell_type": "code",
   "execution_count": 47,
   "metadata": {},
   "outputs": [
    {
     "name": "stdout",
     "output_type": "stream",
     "text": [
      "[[1.         0.00821213 0.00617817 ... 0.04192954 0.01008981 0.00628366]\n",
      " [0.00821213 1.         0.00588786 ... 0.00723    0.00961568 0.00598839]\n",
      " [0.00617817 0.00588786 1.         ... 0.00543929 0.00723409 0.01941578]\n",
      " ...\n",
      " [0.04192954 0.00723    0.00543929 ... 1.         0.00888312 0.00553217]\n",
      " [0.01008981 0.00961568 0.00723409 ... 0.00888312 1.         0.00735761]\n",
      " [0.00628366 0.00598839 0.01941578 ... 0.00553217 0.00735761 1.        ]]\n"
     ]
    }
   ],
   "source": [
    "print(matriz_score)"
   ]
  },
  {
   "cell_type": "code",
   "execution_count": 48,
   "metadata": {},
   "outputs": [],
   "source": [
    "matriz_score_superior = matriz_score.copy()"
   ]
  },
  {
   "cell_type": "code",
   "execution_count": 56,
   "metadata": {
    "tags": []
   },
   "outputs": [],
   "source": [
    "#Deixa só a diagonal superior\n",
    "for coluna in range(len(matriz_score_superior)):\n",
    "    for linha in range(len(matriz_score_superior)):\n",
    "        if coluna >= linha:\n",
    "            matriz_score_superior[coluna, linha] = None"
   ]
  },
  {
   "cell_type": "code",
   "execution_count": 50,
   "metadata": {},
   "outputs": [
    {
     "name": "stdout",
     "output_type": "stream",
     "text": [
      "[[       nan 0.00821213 0.00617817 ... 0.04192954 0.01008981 0.00628366]\n",
      " [       nan        nan 0.00588786 ... 0.00723    0.00961568 0.00598839]\n",
      " [       nan        nan        nan ... 0.00543929 0.00723409 0.01941578]\n",
      " ...\n",
      " [       nan        nan        nan ...        nan 0.00888312 0.00553217]\n",
      " [       nan        nan        nan ...        nan        nan 0.00735761]\n",
      " [       nan        nan        nan ...        nan        nan        nan]]\n"
     ]
    }
   ],
   "source": [
    "print(matriz_score_superior)"
   ]
  },
  {
   "cell_type": "code",
   "execution_count": 51,
   "metadata": {},
   "outputs": [],
   "source": [
    "matriz_score_superior_sem_diagonal_principal = pd.DataFrame()"
   ]
  },
  {
   "cell_type": "code",
   "execution_count": 52,
   "metadata": {},
   "outputs": [],
   "source": [
    "melhores_scores = pd.DataFrame()\n",
    "for linha in range(len(matriz_score_superior)-2):\n",
    "    melhor_score = sorted(matriz_score_superior[linha])[-2]\n",
    "    index_melhor_score = list(matriz_score_superior[linha]).index(melhor_score)\n",
    "    melhores_scores = melhores_scores.append(pd.DataFrame([[itens['ITE_ITEM_TITLE'].iloc[linha], itens['ITE_ITEM_TITLE'].iloc[index_melhor_score], melhor_score]]), ignore_index=True)"
   ]
  },
  {
   "cell_type": "code",
   "execution_count": 53,
   "metadata": {},
   "outputs": [],
   "source": [
    "melhores_scores.columns = [\"ITEM 1\", \"ITEM 2\", \"SCORE\"]"
   ]
  },
  {
   "cell_type": "code",
   "execution_count": 54,
   "metadata": {},
   "outputs": [],
   "source": [
    "melhores_scores = melhores_scores.sort_values(\"SCORE\", ascending=False).reset_index(drop=True)"
   ]
  },
  {
   "cell_type": "code",
   "execution_count": 55,
   "metadata": {},
   "outputs": [],
   "source": [
    "melhores_scores.to_csv(\"melhores_scores.csv\")"
   ]
  },
  {
   "cell_type": "code",
   "execution_count": 33,
   "metadata": {},
   "outputs": [
    {
     "data": {
      "text/html": [
       "<div>\n",
       "<style scoped>\n",
       "    .dataframe tbody tr th:only-of-type {\n",
       "        vertical-align: middle;\n",
       "    }\n",
       "\n",
       "    .dataframe tbody tr th {\n",
       "        vertical-align: top;\n",
       "    }\n",
       "\n",
       "    .dataframe thead th {\n",
       "        text-align: right;\n",
       "    }\n",
       "</style>\n",
       "<table border=\"1\" class=\"dataframe\">\n",
       "  <thead>\n",
       "    <tr style=\"text-align: right;\">\n",
       "      <th></th>\n",
       "      <th>ITEM 1</th>\n",
       "      <th>ITEM 2</th>\n",
       "      <th>SCORE</th>\n",
       "    </tr>\n",
       "  </thead>\n",
       "  <tbody>\n",
       "    <tr>\n",
       "      <th>0</th>\n",
       "      <td>BICICLETA INFANTIL MENINO ARO 20 BICOLOR ULTRA...</td>\n",
       "      <td>BICICLETA ARO 20 BICOLOR MENINO ULTRA BIKES IN...</td>\n",
       "      <td>1.000000</td>\n",
       "    </tr>\n",
       "    <tr>\n",
       "      <th>1</th>\n",
       "      <td>TENIS OLYMPIKUS MASCULINO COMBATE 855</td>\n",
       "      <td>TENIS MASCULINO COMBATE OLYMPIKUS  855</td>\n",
       "      <td>1.000000</td>\n",
       "    </tr>\n",
       "    <tr>\n",
       "      <th>2</th>\n",
       "      <td>TENIS  VIA MARTE</td>\n",
       "      <td>VIA MARTE</td>\n",
       "      <td>0.984678</td>\n",
       "    </tr>\n",
       "    <tr>\n",
       "      <th>3</th>\n",
       "      <td>TENIS ADIDAS RUN 60S 20 FEMININO</td>\n",
       "      <td>TENIS ADIDAS RUN 60S 20 ORIGINAL</td>\n",
       "      <td>0.953727</td>\n",
       "    </tr>\n",
       "    <tr>\n",
       "      <th>4</th>\n",
       "      <td>TENIS MIZUNO MASCULINO PROPHECY X</td>\n",
       "      <td>MIZUNO PROPHECY 7</td>\n",
       "      <td>0.938783</td>\n",
       "    </tr>\n",
       "    <tr>\n",
       "      <th>...</th>\n",
       "      <td>...</td>\n",
       "      <td>...</td>\n",
       "      <td>...</td>\n",
       "    </tr>\n",
       "    <tr>\n",
       "      <th>9993</th>\n",
       "      <td>ONCLOUD X 4344</td>\n",
       "      <td>BICICLETA ARO 29 SPACELINE ORION 21V FREIO A D...</td>\n",
       "      <td>0.000000</td>\n",
       "    </tr>\n",
       "    <tr>\n",
       "      <th>9994</th>\n",
       "      <td>GRENDHA</td>\n",
       "      <td>TENIS SAPATENIS MULE PATTERN ABSTRATO MODERNO ...</td>\n",
       "      <td>0.000000</td>\n",
       "    </tr>\n",
       "    <tr>\n",
       "      <th>9995</th>\n",
       "      <td>EXCLUSIVA</td>\n",
       "      <td>BICICLETA ARO 29 QUADRO 19 GTI 21V FREIO DISCO...</td>\n",
       "      <td>0.000000</td>\n",
       "    </tr>\n",
       "    <tr>\n",
       "      <th>9996</th>\n",
       "      <td>GIUSEPPE ZANOTTI FRANKIE 38BR</td>\n",
       "      <td>SPECIALIZED STUMPJUMPER 29 COMP 11 KILOS</td>\n",
       "      <td>0.000000</td>\n",
       "    </tr>\n",
       "    <tr>\n",
       "      <th>9997</th>\n",
       "      <td>TENNIS CAJUBRASIL</td>\n",
       "      <td>TENIS SKECHERS GO RUN RIDE 8 FEMININO CORRIDA ...</td>\n",
       "      <td>0.000000</td>\n",
       "    </tr>\n",
       "  </tbody>\n",
       "</table>\n",
       "<p>9998 rows × 3 columns</p>\n",
       "</div>"
      ],
      "text/plain": [
       "                                                 ITEM 1  \\\n",
       "0     BICICLETA INFANTIL MENINO ARO 20 BICOLOR ULTRA...   \n",
       "1                 TENIS OLYMPIKUS MASCULINO COMBATE 855   \n",
       "2                                      TENIS  VIA MARTE   \n",
       "3                      TENIS ADIDAS RUN 60S 20 FEMININO   \n",
       "4                     TENIS MIZUNO MASCULINO PROPHECY X   \n",
       "...                                                 ...   \n",
       "9993                                     ONCLOUD X 4344   \n",
       "9994                                            GRENDHA   \n",
       "9995                                          EXCLUSIVA   \n",
       "9996                      GIUSEPPE ZANOTTI FRANKIE 38BR   \n",
       "9997                                  TENNIS CAJUBRASIL   \n",
       "\n",
       "                                                 ITEM 2     SCORE  \n",
       "0     BICICLETA ARO 20 BICOLOR MENINO ULTRA BIKES IN...  1.000000  \n",
       "1                TENIS MASCULINO COMBATE OLYMPIKUS  855  1.000000  \n",
       "2                                             VIA MARTE  0.984678  \n",
       "3                      TENIS ADIDAS RUN 60S 20 ORIGINAL  0.953727  \n",
       "4                                     MIZUNO PROPHECY 7  0.938783  \n",
       "...                                                 ...       ...  \n",
       "9993  BICICLETA ARO 29 SPACELINE ORION 21V FREIO A D...  0.000000  \n",
       "9994  TENIS SAPATENIS MULE PATTERN ABSTRATO MODERNO ...  0.000000  \n",
       "9995  BICICLETA ARO 29 QUADRO 19 GTI 21V FREIO DISCO...  0.000000  \n",
       "9996           SPECIALIZED STUMPJUMPER 29 COMP 11 KILOS  0.000000  \n",
       "9997  TENIS SKECHERS GO RUN RIDE 8 FEMININO CORRIDA ...  0.000000  \n",
       "\n",
       "[9998 rows x 3 columns]"
      ]
     },
     "execution_count": 33,
     "metadata": {},
     "output_type": "execute_result"
    }
   ],
   "source": [
    "melhores_scores"
   ]
  }
 ],
 "metadata": {
  "kernelspec": {
   "display_name": "Python 3",
   "language": "python",
   "name": "python3"
  },
  "language_info": {
   "codemirror_mode": {
    "name": "ipython",
    "version": 3
   },
   "file_extension": ".py",
   "mimetype": "text/x-python",
   "name": "python",
   "nbconvert_exporter": "python",
   "pygments_lexer": "ipython3",
   "version": "3.8.3"
  }
 },
 "nbformat": 4,
 "nbformat_minor": 5
}
